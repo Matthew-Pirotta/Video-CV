{
 "cells": [
  {
   "cell_type": "markdown",
   "id": "754999c9",
   "metadata": {},
   "source": [
    "### 3. Feature Detection and Description \n",
    "\n",
    "- Teams will implement feature detection and description using OpenCV. \n",
    "- Teams will select and implement at least two feature detection/description \n",
    "algorithms (SIFT, SURF, ORB, or others). \n",
    "- A comparison of the chosen algorithms' performance is required in the evaluation. \n",
    "\n",
    "- Hints for comparison: \n",
    "    - Number of detected features: How many keypoints does each algorithm detect in the same image? More keypoints are not always better, but a sufficient number is required for reliable matching. Students could create a plot of the number of features detected vs frame number. \n",
    "    - Matching performance: How many correct matches are found by each algorithm? This can be evaluated by visually inspecting a subset of the matches. Students could visualise the matches using a small number of image pairs (e.g., 5-10 pairs). \n",
    "    - Computational speed: How long does each algorithm take to detect and describe features? Students can use Python's time module to measure the execution time for this stage. \n",
    "    - Robustness to image transformations: How well do the algorithms perform under different conditions, such as changes in scale, rotation, illumination, and viewpoint? This can be done qualitatively by selecting image pairs with significant viewpoint changes and observing the number of matches. \n",
    "    - Qualitative assessment: How well do the features visually correspond between frames? Students can create a montage of a few frames, and the feature matches. \n",
    "-  Teams must explain the algorithms' parameters and justify their values. "
   ]
  },
  {
   "cell_type": "markdown",
   "id": "655e7d7a",
   "metadata": {},
   "source": [
    "### SIFT Algorithm"
   ]
  },
  {
   "cell_type": "code",
   "execution_count": null,
   "id": "93c4d910",
   "metadata": {},
   "outputs": [],
   "source": [
    "import cv2\n",
    "import matplotlib.pyplot as plt\n",
    "import numpy as np\n",
    "import time"
   ]
  },
  {
   "cell_type": "code",
   "execution_count": null,
   "id": "47d32976",
   "metadata": {},
   "outputs": [],
   "source": [
    "# Load two sample grayscale frames\n",
    "img1 = cv2.imread('frame1.jpg', cv2.IMREAD_GRAYSCALE)\n",
    "img2 = cv2.imread('frame2.jpg', cv2.IMREAD_GRAYSCALE)\n",
    "\n",
    "# Initialize SIFT detector\n",
    "sift = cv2.SIFT_create()  # You can also pass parameters here if tuning\n",
    "\n",
    "# Time the detection and description process\n",
    "start_time = time.time()\n",
    "keypoints1, descriptors1 = sift.detectAndCompute(img1, None)\n",
    "keypoints2, descriptors2 = sift.detectAndCompute(img2, None)\n",
    "elapsed_time = time.time() - start_time\n",
    "print(f\"SIFT took {elapsed_time:.4f} seconds to process two images.\")\n",
    "\n",
    "# Visualize keypoints\n",
    "img_kp1 = cv2.drawKeypoints(img1, keypoints1, None, flags=cv2.DRAW_MATCHES_FLAGS_DRAW_RICH_KEYPOINTS)\n",
    "plt.figure(figsize=(10, 5))\n",
    "plt.imshow(img_kp1, cmap='gray')\n",
    "plt.title(\"SIFT Keypoints in Frame 1\")\n",
    "plt.axis('off')\n",
    "plt.show()\n",
    "\n",
    "# Brute-Force matcher with Euclidean distance\n",
    "bf = cv2.BFMatcher(cv2.NORM_L2, crossCheck=True)\n",
    "matches = bf.match(descriptors1, descriptors2)\n",
    "matches = sorted(matches, key=lambda x: x.distance)\n",
    "\n",
    "# Draw matches\n",
    "img_matches = cv2.drawMatches(img1, keypoints1, img2, keypoints2, matches[:50], None, flags=2)\n",
    "plt.figure(figsize=(15, 7))\n",
    "plt.imshow(img_matches)\n",
    "plt.title(\"Top 50 SIFT Matches\")\n",
    "plt.axis('off')\n",
    "plt.show()"
   ]
  }
 ],
 "metadata": {
  "kernelspec": {
   "display_name": "Python 3",
   "language": "python",
   "name": "python3"
  },
  "language_info": {
   "codemirror_mode": {
    "name": "ipython",
    "version": 3
   },
   "file_extension": ".py",
   "mimetype": "text/x-python",
   "name": "python",
   "nbconvert_exporter": "python",
   "pygments_lexer": "ipython3",
   "version": "3.11.9"
  }
 },
 "nbformat": 4,
 "nbformat_minor": 5
}
