{
 "cells": [
  {
   "cell_type": "markdown",
   "id": "996542c1",
   "metadata": {},
   "source": [
    "## 2. Frame Extraction"
   ]
  },
  {
   "cell_type": "code",
   "execution_count": 10,
   "id": "64824c20",
   "metadata": {},
   "outputs": [
    {
     "name": "stdout",
     "output_type": "stream",
     "text": [
      "Opening video file: ../videos/bedroomvideo.mp4\n",
      "\n",
      "Finished processing video.\n",
      "Total frames iterated: 237.\n"
     ]
    }
   ],
   "source": [
    "# pip install imageio[ffmpeg]\n",
    "import imageio.v3 as iio\n",
    "import matplotlib.pyplot as plt\n",
    "\n",
    "def load_video_frames(video_path, frame_interval=10, display_frames=True):\n",
    "    # Load frames from a video file at specified intervals.\n",
    "\n",
    "    frame_count = 0\n",
    "    frames = []  # List to store frames for visualization\n",
    "\n",
    "    try:\n",
    "        print(f\"Opening video file: {video_path}\")\n",
    "        \n",
    "        # Iterate through frames in the video file\n",
    "        for frame in iio.imiter(video_path):\n",
    "            if frame_count % frame_interval == 0:\n",
    "                frames.append(frame)  # Store frame in list\n",
    "                \n",
    "                # Display frame if display_frames is True\n",
    "                if display_frames:\n",
    "                    plt.imshow(frame)\n",
    "                    plt.title(f'Frame {frame_count}')\n",
    "                    plt.axis('off')\n",
    "                    plt.show()\n",
    "                \n",
    "            frame_count += 1\n",
    "\n",
    "    except FileNotFoundError:\n",
    "        print(f\"Error: Video file not found at {video_path}\")\n",
    "        return [], 0\n",
    "    except Exception as e:\n",
    "        print(f\"An error occurred while processing the video: {e}\")\n",
    "        return [], 0\n",
    "\n",
    "    print(f\"\\nFinished processing video.\")\n",
    "    print(f\"Total frames iterated: {frame_count}.\")\n",
    "    \n",
    "    return frames\n",
    "\n",
    "frames = load_video_frames('../videos/bedroomvideo.mp4', frame_interval=10, display_frames=False)"
   ]
  },
  {
   "cell_type": "markdown",
   "id": "5679cd5a",
   "metadata": {},
   "source": [
    "## 5. Essential/ Fundamental Matrix Computation"
   ]
  },
  {
   "cell_type": "markdown",
   "id": "e42c28f1",
   "metadata": {},
   "source": [
    "## 6. Camera Pose Estimation"
   ]
  },
  {
   "cell_type": "markdown",
   "id": "1a361aa2",
   "metadata": {},
   "source": [
    "## 7. 3D Point Triangulation and Scene Visualisation"
   ]
  }
 ],
 "metadata": {
  "kernelspec": {
   "display_name": "base",
   "language": "python",
   "name": "python3"
  },
  "language_info": {
   "codemirror_mode": {
    "name": "ipython",
    "version": 3
   },
   "file_extension": ".py",
   "mimetype": "text/x-python",
   "name": "python",
   "nbconvert_exporter": "python",
   "pygments_lexer": "ipython3",
   "version": "3.11.5"
  }
 },
 "nbformat": 4,
 "nbformat_minor": 5
}
