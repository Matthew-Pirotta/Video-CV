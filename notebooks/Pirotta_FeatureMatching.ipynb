{
 "cells": [
  {
   "cell_type": "code",
   "execution_count": 1,
   "id": "e8e0f122",
   "metadata": {},
   "outputs": [],
   "source": [
    "import cv2\n",
    "import numpy as np\n",
    "import matplotlib.pyplot as plt"
   ]
  },
  {
   "cell_type": "code",
   "execution_count": null,
   "id": "2f0ed437",
   "metadata": {},
   "outputs": [],
   "source": [
    "# Match descriptors using FLANN or BFMatcher\n",
    "bf = cv2.BFMatcher(cv2.NORM_L2, crossCheck=True)\n",
    "matches = bf.match(descriptors1, descriptors2)\n",
    "\n",
    "# Sort matches by distance\n",
    "matches = sorted(matches, key=lambda x: x.distance)\n",
    "\n",
    "# Extract matched keypoints\n",
    "pts1 = np.float32([keypoints1[m.queryIdx].pt for m in matches])\n",
    "pts2 = np.float32([keypoints2[m.trainIdx].pt for m in matches])\n",
    "\n",
    "# Estimate the Fundamental Matrix using RANSAC\n",
    "F, mask = cv2.findFundamentalMat(pts1, pts2, cv2.FM_RANSAC, ransacReprojThreshold=1.0, confidence=0.99)\n",
    "\n",
    "# Select inlier points\n",
    "inlier_matches = [m for i, m in enumerate(matches) if mask[i]]\n",
    "\n",
    "# Visualize matches before and after RANSAC\n",
    "def draw_matches(img1, kp1, img2, kp2, matches, title=\"Matches\"):\n",
    "    matched_img = cv2.drawMatches(img1, kp1, img2, kp2, matches, None,\n",
    "                                  matchColor=(0, 255, 0), flags=cv2.DrawMatchesFlags_NOT_DRAW_SINGLE_POINTS)\n",
    "    plt.figure(figsize=(12, 6))\n",
    "    plt.imshow(cv2.cvtColor(matched_img, cv2.COLOR_BGR2RGB))\n",
    "    plt.title(title)\n",
    "    plt.axis('off')\n",
    "    plt.show()\n",
    "\n",
    "draw_matches(img1, keypoints1, img2, keypoints2, matches[:50], \"All Matches\")\n",
    "draw_matches(img1, keypoints1, img2, keypoints2, inlier_matches[:50], \"Inlier Matches after RANSAC\")"
   ]
  }
 ],
 "metadata": {
  "kernelspec": {
   "display_name": ".venv",
   "language": "python",
   "name": "python3"
  },
  "language_info": {
   "codemirror_mode": {
    "name": "ipython",
    "version": 3
   },
   "file_extension": ".py",
   "mimetype": "text/x-python",
   "name": "python",
   "nbconvert_exporter": "python",
   "pygments_lexer": "ipython3",
   "version": "3.11.9"
  }
 },
 "nbformat": 4,
 "nbformat_minor": 5
}
