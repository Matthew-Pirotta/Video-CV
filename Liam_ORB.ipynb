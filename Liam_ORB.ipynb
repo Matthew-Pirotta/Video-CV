{
 "cells": [
  {
   "cell_type": "markdown",
   "id": "4af460b9",
   "metadata": {},
   "source": [
    "ORB (Oriented FAST and Rotated BRIEF)"
   ]
  },
  {
   "cell_type": "code",
   "execution_count": 2,
   "id": "5610cf8d",
   "metadata": {},
   "outputs": [],
   "source": [
    "import cv2\n",
    "\n",
    "image = cv2.imread('Images\\\\Titanic-1.jpg', 0)\n",
    "orb = cv2.ORB_create()\n",
    "\n",
    "keypoints, descriptors = orb.detectAndCompute(image, None)\n",
    "output = cv2.drawKeypoints(image, keypoints, None, color=(0, 255, 0), flags=0)\n",
    "\n",
    "cv2.imshow(\"ORB Features\", output)\n",
    "cv2.waitKey(0)\n",
    "cv2.destroyAllWindows()"
   ]
  }
 ],
 "metadata": {
  "kernelspec": {
   "display_name": "Python 3",
   "language": "python",
   "name": "python3"
  },
  "language_info": {
   "codemirror_mode": {
    "name": "ipython",
    "version": 3
   },
   "file_extension": ".py",
   "mimetype": "text/x-python",
   "name": "python",
   "nbconvert_exporter": "python",
   "pygments_lexer": "ipython3",
   "version": "3.11.9"
  }
 },
 "nbformat": 4,
 "nbformat_minor": 5
}
